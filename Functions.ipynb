{
  "cells": [
    {
      "cell_type": "markdown",
      "id": "ae99a0ce",
      "metadata": {
        "id": "ae99a0ce"
      },
      "source": [
        "# Theory Questions:\n"
      ]
    },
    {
      "cell_type": "markdown",
      "id": "ecc4109d",
      "metadata": {
        "id": "ecc4109d"
      },
      "source": [
        "## 1. What is the difference between a function and a method in Python?\n",
        "- Function: Independent block of code.\n",
        "- Method: Function tied to an object."
      ]
    },
    {
      "cell_type": "code",
      "execution_count": 1,
      "id": "7def3a84",
      "metadata": {
        "colab": {
          "base_uri": "https://localhost:8080/"
        },
        "id": "7def3a84",
        "outputId": "24ac6b3d-d0cf-425f-8fb4-506f7c8183b7"
      },
      "outputs": [
        {
          "output_type": "stream",
          "name": "stdout",
          "text": [
            "Hello, Alice!\n",
            "HELLO WORLD\n"
          ]
        }
      ],
      "source": [
        "def greet(name):\n",
        "    return f\"Hello, {name}!\"\n",
        "\n",
        "print(greet(\"Alice\"))\n",
        "\n",
        "text = \"hello world\"\n",
        "print(text.upper())"
      ]
    },
    {
      "cell_type": "markdown",
      "id": "0e8b13a5",
      "metadata": {
        "id": "0e8b13a5"
      },
      "source": [
        "## 2. Explain the concept of function arguments and parameters in Python.\n",
        "- Parameters: Variables in function definition.\n",
        "- Arguments: Values passed to the function."
      ]
    },
    {
      "cell_type": "code",
      "execution_count": 2,
      "id": "61bf96a1",
      "metadata": {
        "colab": {
          "base_uri": "https://localhost:8080/"
        },
        "id": "61bf96a1",
        "outputId": "aa673633-d5b8-42a8-e53a-6125fdf6d264"
      },
      "outputs": [
        {
          "output_type": "stream",
          "name": "stdout",
          "text": [
            "8\n"
          ]
        }
      ],
      "source": [
        "def add(a, b):\n",
        "    return a + b\n",
        "\n",
        "result = add(5, 3)\n",
        "print(result)"
      ]
    },
    {
      "cell_type": "markdown",
      "id": "2a54e59e",
      "metadata": {
        "id": "2a54e59e"
      },
      "source": [
        "## 3. What are the different ways to define and call a function in Python?"
      ]
    },
    {
      "cell_type": "code",
      "execution_count": 3,
      "id": "23b59b5c",
      "metadata": {
        "colab": {
          "base_uri": "https://localhost:8080/"
        },
        "id": "23b59b5c",
        "outputId": "b44e50c0-46ff-4b43-c667-3e96182e3b40"
      },
      "outputs": [
        {
          "output_type": "stream",
          "name": "stdout",
          "text": [
            "16\n",
            "27\n"
          ]
        }
      ],
      "source": [
        "def square(x):\n",
        "    return x**2\n",
        "print(square(4))\n",
        "\n",
        "cube = lambda x: x**3\n",
        "print(cube(3))"
      ]
    },
    {
      "cell_type": "markdown",
      "id": "f5a09127",
      "metadata": {
        "id": "f5a09127"
      },
      "source": [
        "## 4. What is the purpose of the `return` statement in a Python function?\n"
      ]
    },
    {
      "cell_type": "code",
      "execution_count": 4,
      "id": "4d77fb92",
      "metadata": {
        "colab": {
          "base_uri": "https://localhost:8080/"
        },
        "id": "4d77fb92",
        "outputId": "644949fc-0452-4547-9116-ca7f3b070096"
      },
      "outputs": [
        {
          "output_type": "stream",
          "name": "stdout",
          "text": [
            "12\n"
          ]
        }
      ],
      "source": [
        "def multiply(a, b):\n",
        "    return a * b\n",
        "\n",
        "print(multiply(3, 4))"
      ]
    },
    {
      "cell_type": "markdown",
      "id": "0c12577f",
      "metadata": {
        "id": "0c12577f"
      },
      "source": [
        "## 5. What are iterators in Python and how do they differ from iterables?"
      ]
    },
    {
      "cell_type": "code",
      "execution_count": 5,
      "id": "0daf312e",
      "metadata": {
        "colab": {
          "base_uri": "https://localhost:8080/"
        },
        "id": "0daf312e",
        "outputId": "b7f92f4d-8dde-4919-9744-408e23e28207"
      },
      "outputs": [
        {
          "output_type": "stream",
          "name": "stdout",
          "text": [
            "1\n",
            "2\n"
          ]
        }
      ],
      "source": [
        "my_list = [1, 2, 3]\n",
        "my_iter = iter(my_list)\n",
        "print(next(my_iter))\n",
        "print(next(my_iter))"
      ]
    },
    {
      "cell_type": "markdown",
      "id": "f9cf232c",
      "metadata": {
        "id": "f9cf232c"
      },
      "source": [
        "## 6. Explain the concept of generators in Python and how they are defined."
      ]
    },
    {
      "cell_type": "code",
      "execution_count": 6,
      "id": "6ab0b0cc",
      "metadata": {
        "colab": {
          "base_uri": "https://localhost:8080/"
        },
        "id": "6ab0b0cc",
        "outputId": "c22be42e-2ff7-4ef7-ca61-2369fda4bb38"
      },
      "outputs": [
        {
          "output_type": "stream",
          "name": "stdout",
          "text": [
            "0\n",
            "1\n",
            "2\n",
            "3\n",
            "4\n"
          ]
        }
      ],
      "source": [
        "def my_gen(n):\n",
        "    for i in range(n):\n",
        "        yield i\n",
        "\n",
        "for value in my_gen(5):\n",
        "    print(value)"
      ]
    },
    {
      "cell_type": "markdown",
      "id": "42b40c9a",
      "metadata": {
        "id": "42b40c9a"
      },
      "source": [
        "## 7. What are the advantages of using generators over regular functions?\n",
        "- Memory efficient\n",
        "- Can represent infinite sequences\n",
        "- Lazy evaluation"
      ]
    },
    {
      "cell_type": "code",
      "execution_count": 7,
      "id": "eb5ac573",
      "metadata": {
        "id": "eb5ac573"
      },
      "outputs": [],
      "source": [
        "def infinite_gen():\n",
        "    i = 0\n",
        "    while True:\n",
        "        yield i\n",
        "        i += 1"
      ]
    },
    {
      "cell_type": "markdown",
      "id": "32d3cf68",
      "metadata": {
        "id": "32d3cf68"
      },
      "source": [
        "## 8. What is a lambda function in Python and when is it typically used?\n",
        "-  A lambda function in Python is a small anonymous function (a function without a name) defined using the lambda keyword. It can take any number of arguments but can only have one expression, whose result is returned automatically."
      ]
    },
    {
      "cell_type": "code",
      "execution_count": 8,
      "id": "28969664",
      "metadata": {
        "colab": {
          "base_uri": "https://localhost:8080/"
        },
        "id": "28969664",
        "outputId": "b3a3ac45-e780-49a3-fb02-7b4a144cdd18"
      },
      "outputs": [
        {
          "output_type": "stream",
          "name": "stdout",
          "text": [
            "25\n"
          ]
        }
      ],
      "source": [
        "square = lambda x: x**2\n",
        "print(square(5))"
      ]
    },
    {
      "cell_type": "markdown",
      "id": "17466cd1",
      "metadata": {
        "id": "17466cd1"
      },
      "source": [
        "## 9. Explain the purpose and usage of the `map()` function in Python.\n",
        "\n",
        "-  The map() function in Python is used to apply a function to every item in a list (or any iterable) and return a new iterable with the results."
      ]
    },
    {
      "cell_type": "code",
      "source": [
        "def square(x):\n",
        "    return x * x\n",
        "\n",
        "numbers = [1, 2, 3, 4]\n",
        "squared = list(map(square, numbers))\n",
        "print(squared)\n"
      ],
      "metadata": {
        "colab": {
          "base_uri": "https://localhost:8080/"
        },
        "id": "UGhhWfH2bGbI",
        "outputId": "e24b4195-c206-4fb8-aeff-3e6e0535466f"
      },
      "id": "UGhhWfH2bGbI",
      "execution_count": 27,
      "outputs": [
        {
          "output_type": "stream",
          "name": "stdout",
          "text": [
            "[1, 4, 9, 16]\n"
          ]
        }
      ]
    },
    {
      "cell_type": "code",
      "execution_count": 26,
      "id": "31917a5c",
      "metadata": {
        "colab": {
          "base_uri": "https://localhost:8080/"
        },
        "id": "31917a5c",
        "outputId": "179514c0-0497-4a7f-bc82-6eb639ef5606"
      },
      "outputs": [
        {
          "output_type": "stream",
          "name": "stdout",
          "text": [
            "[1, 4, 9, 16]\n"
          ]
        }
      ],
      "source": [
        "# map(function, \"iterable\")\n",
        "\n",
        "numbers = [1, 2, 3, 4]\n",
        "squared = list(map(lambda x: x*x, numbers))\n",
        "print(squared)"
      ]
    },
    {
      "cell_type": "markdown",
      "id": "a73f9fd0",
      "metadata": {
        "id": "a73f9fd0"
      },
      "source": [
        "## 10. What is the difference between `map()`, `reduce()`, and `filter()` functions in Python?"
      ]
    },
    {
      "cell_type": "code",
      "execution_count": 10,
      "id": "1e15a713",
      "metadata": {
        "colab": {
          "base_uri": "https://localhost:8080/"
        },
        "id": "1e15a713",
        "outputId": "d9abe744-1397-427f-d7f7-09e9f80b8207"
      },
      "outputs": [
        {
          "output_type": "stream",
          "name": "stdout",
          "text": [
            "[2, 4, 6, 8]\n",
            "[2, 4]\n",
            "10\n"
          ]
        }
      ],
      "source": [
        "from functools import reduce\n",
        "\n",
        "nums = [1, 2, 3, 4]\n",
        "print(list(map(lambda x: x*2, nums)))\n",
        "print(list(filter(lambda x: x%2==0, nums)))\n",
        "print(reduce(lambda x, y: x+y, nums))"
      ]
    },
    {
      "cell_type": "code",
      "source": [
        "# Python: Map, Filter, Reduce Example in Google Colab\n",
        "\n",
        "# map(): Apply a function to each item in a list\n",
        "print(\"=== map() Example ===\")\n",
        "numbers = [1, 2, 3, 4]\n",
        "squared = list(map(lambda x: x*2, numbers))\n",
        "print(\"Original numbers:\", numbers)\n",
        "print(\"After map (x*2):\", squared)\n",
        "print()\n",
        "\n",
        "# filter(): Select items based on a condition\n",
        "print(\"=== filter() Example ===\")\n",
        "numbers = [1, 2, 3, 4, 5]\n",
        "even_numbers = list(filter(lambda x: x % 2 == 0, numbers))\n",
        "print(\"Original numbers:\", numbers)\n",
        "print(\"Even numbers (filter):\", even_numbers)\n",
        "print()\n",
        "\n",
        "# reduce(): Combine all items into a single value\n",
        "print(\"=== reduce() Example ===\")\n",
        "from functools import reduce\n",
        "numbers = [1, 2, 3, 4]\n",
        "sum_numbers = reduce(lambda x, y: x + y, numbers)\n",
        "print(\"Original numbers:\", numbers)\n",
        "print(\"Sum of all numbers (reduce):\", sum_numbers)\n",
        "print()"
      ],
      "metadata": {
        "colab": {
          "base_uri": "https://localhost:8080/"
        },
        "id": "WDAq-EsmbfJY",
        "outputId": "4f021408-4de0-4307-df80-674678dc5566"
      },
      "id": "WDAq-EsmbfJY",
      "execution_count": 29,
      "outputs": [
        {
          "output_type": "stream",
          "name": "stdout",
          "text": [
            "=== map() Example ===\n",
            "Original numbers: [1, 2, 3, 4]\n",
            "After map (x*2): [2, 4, 6, 8]\n",
            "\n",
            "=== filter() Example ===\n",
            "Original numbers: [1, 2, 3, 4, 5]\n",
            "Even numbers (filter): [2, 4]\n",
            "\n",
            "=== reduce() Example ===\n",
            "Original numbers: [1, 2, 3, 4]\n",
            "Sum of all numbers (reduce): 10\n",
            "\n"
          ]
        }
      ]
    },
    {
      "cell_type": "markdown",
      "source": [
        "11. [The internal mechanism for sum operation using reduce function on this given list: 47,11,42,13](https://docs.google.com/document/d/15LsVVa8eoJquBa-mQkRn0eunSdNmoUBd1rQfPQTwnio/edit?usp=sharing)"
      ],
      "metadata": {
        "id": "1Ys0318wRBwh"
      },
      "id": "1Ys0318wRBwh"
    },
    {
      "cell_type": "markdown",
      "metadata": {
        "id": "be8b6c67"
      },
      "source": [
        "# **Practical Questions:**"
      ],
      "id": "be8b6c67"
    },
    {
      "cell_type": "markdown",
      "metadata": {
        "id": "51537d30"
      },
      "source": [
        "## 1.  Write a Python function that takes a list of numbers as input and returns the sum of all even numbers in the list."
      ],
      "id": "51537d30"
    },
    {
      "cell_type": "code",
      "metadata": {
        "colab": {
          "base_uri": "https://localhost:8080/"
        },
        "id": "5e2f1b6b",
        "outputId": "45e8feac-f4b3-4894-b5f1-3ee1527705dc"
      },
      "source": [
        "def sum_even_numbers(numbers):\n",
        "    return sum(num for num in numbers if num % 2 == 0)\n",
        "\n",
        "# Example\n",
        "\n",
        "nums = [1, 2, 3, 4, 5, 6]\n",
        "print(\"Sum of even numbers:\", sum_even_numbers(nums))"
      ],
      "id": "5e2f1b6b",
      "execution_count": 12,
      "outputs": [
        {
          "output_type": "stream",
          "name": "stdout",
          "text": [
            "Sum of even numbers: 12\n"
          ]
        }
      ]
    },
    {
      "cell_type": "markdown",
      "metadata": {
        "id": "6aa1d2d5"
      },
      "source": [
        "## 2.  Create a Python function that accepts a string and returns the reverse of that string."
      ],
      "id": "6aa1d2d5"
    },
    {
      "cell_type": "code",
      "metadata": {
        "colab": {
          "base_uri": "https://localhost:8080/"
        },
        "id": "05e2a82f",
        "outputId": "daef2d9d-7a8f-4131-d02c-e79fb202c00a"
      },
      "source": [
        "def reverse_string(s):\n",
        "    return s[::-1]\n",
        "\n",
        "# Example\n",
        "\n",
        "text = \"hello\"\n",
        "print(\"Reversed string:\", reverse_string(text))"
      ],
      "id": "05e2a82f",
      "execution_count": 13,
      "outputs": [
        {
          "output_type": "stream",
          "name": "stdout",
          "text": [
            "Reversed string: olleh\n"
          ]
        }
      ]
    },
    {
      "cell_type": "markdown",
      "metadata": {
        "id": "ac723450"
      },
      "source": [
        "## 3.  Implement a Python function that takes a list of integers and returns a new list containing the squares of each number."
      ],
      "id": "ac723450"
    },
    {
      "cell_type": "code",
      "metadata": {
        "colab": {
          "base_uri": "https://localhost:8080/"
        },
        "id": "a454b1f8",
        "outputId": "420b8a32-0a64-4244-b8f4-cca1214851c0"
      },
      "source": [
        "def square_list(numbers):\n",
        "    return [num**2 for num in numbers]\n",
        "\n",
        "# Example\n",
        "nums = [1, 2, 3, 4]\n",
        "print(\"Squares:\", square_list(nums))"
      ],
      "id": "a454b1f8",
      "execution_count": 14,
      "outputs": [
        {
          "output_type": "stream",
          "name": "stdout",
          "text": [
            "Squares: [1, 4, 9, 16]\n"
          ]
        }
      ]
    },
    {
      "cell_type": "markdown",
      "metadata": {
        "id": "07b52735"
      },
      "source": [
        "## 4.  Write a Python function that checks if a given number is prime or not from 1 to 200."
      ],
      "id": "07b52735"
    },
    {
      "cell_type": "code",
      "metadata": {
        "colab": {
          "base_uri": "https://localhost:8080/"
        },
        "id": "a7cc1694",
        "outputId": "d32dd7e9-9e41-41f4-eb5b-a2bb39c0a143"
      },
      "source": [
        "def is_prime(n):\n",
        "    if n < 2:\n",
        "        return False\n",
        "    for i in range(2, int(n**0.5) + 1):\n",
        "        if n % i == 0:\n",
        "            return False\n",
        "    return True\n",
        "\n",
        "# Example\n",
        "print(\"Prime numbers from 1 to 200:\")\n",
        "for i in range(1, 201):\n",
        "    if is_prime(i):\n",
        "        print(i, end=\" \")"
      ],
      "id": "a7cc1694",
      "execution_count": 15,
      "outputs": [
        {
          "output_type": "stream",
          "name": "stdout",
          "text": [
            "Prime numbers from 1 to 200:\n",
            "2 3 5 7 11 13 17 19 23 29 31 37 41 43 47 53 59 61 67 71 73 79 83 89 97 101 103 107 109 113 127 131 137 139 149 151 157 163 167 173 179 181 191 193 197 199 "
          ]
        }
      ]
    },
    {
      "cell_type": "markdown",
      "metadata": {
        "id": "d03118c4"
      },
      "source": [
        "## 5. Create an iterator class in Python that generates the Fibonacci sequence up to a specified number of terms."
      ],
      "id": "d03118c4"
    },
    {
      "cell_type": "code",
      "metadata": {
        "colab": {
          "base_uri": "https://localhost:8080/"
        },
        "id": "fcd68003",
        "outputId": "962d94c7-6c1f-4c05-98d0-010cb624a3b3"
      },
      "source": [
        "class Fibonacci:\n",
        "    def __init__(self, terms):\n",
        "        self.terms = terms\n",
        "        self.a, self.b = 0, 1\n",
        "        self.count = 0\n",
        "\n",
        "    def __iter__(self):\n",
        "        return self\n",
        "\n",
        "    def __next__(self):\n",
        "        if self.count >= self.terms:\n",
        "            raise StopIteration\n",
        "        if self.count == 0:\n",
        "            self.count += 1\n",
        "            return self.a\n",
        "        elif self.count == 1:\n",
        "            self.count += 1\n",
        "            return self.b\n",
        "        else:\n",
        "            self.a, self.b = self.b, self.a + self.b\n",
        "            self.count += 1\n",
        "            return self.b\n",
        "\n",
        "# Example\n",
        "fib = Fibonacci(10)\n",
        "print(\"Fibonacci sequence:\")\n",
        "for num in fib:\n",
        "    print(num, end=\" \")"
      ],
      "id": "fcd68003",
      "execution_count": 16,
      "outputs": [
        {
          "output_type": "stream",
          "name": "stdout",
          "text": [
            "Fibonacci sequence:\n",
            "0 1 1 2 3 5 8 13 21 34 "
          ]
        }
      ]
    },
    {
      "cell_type": "markdown",
      "metadata": {
        "id": "2216df47"
      },
      "source": [
        "## 6. Write a generator function in Python that yields the powers of 2 up to a given exponent."
      ],
      "id": "2216df47"
    },
    {
      "cell_type": "code",
      "metadata": {
        "colab": {
          "base_uri": "https://localhost:8080/"
        },
        "id": "b14b342d",
        "outputId": "76ecf31e-4ac8-4d06-ae17-888b1eca7699"
      },
      "source": [
        "def powers_of_two(exponent):\n",
        "    for i in range(exponent + 1):\n",
        "        yield 2**i\n",
        "\n",
        "# Example\n",
        "print(\"Powers of 2:\")\n",
        "for val in powers_of_two(5):\n",
        "    print(val, end=\" \")"
      ],
      "id": "b14b342d",
      "execution_count": 17,
      "outputs": [
        {
          "output_type": "stream",
          "name": "stdout",
          "text": [
            "Powers of 2:\n",
            "1 2 4 8 16 32 "
          ]
        }
      ]
    },
    {
      "cell_type": "markdown",
      "metadata": {
        "id": "a894db70"
      },
      "source": [
        "## 7. Implement a generator function that reads a file line by line and yields each line as a string."
      ],
      "id": "a894db70"
    },
    {
      "cell_type": "code",
      "metadata": {
        "id": "1026eaf9"
      },
      "source": [
        "def read_file_line_by_line(filename):\n",
        "    with open(filename, 'r') as file:\n",
        "        for line in file:\n",
        "            yield line.strip()\n",
        "\n",
        "# Example (uncomment after creating 'sample.txt')\n",
        "# for line in read_file_line_by_line('sample.txt'):\n",
        "#     print(line)"
      ],
      "id": "1026eaf9",
      "execution_count": 18,
      "outputs": []
    },
    {
      "cell_type": "markdown",
      "metadata": {
        "id": "8dc043c1"
      },
      "source": [
        "## 8. Use a lambda function in Python to sort a list of tuples based on the second element of each tuple."
      ],
      "id": "8dc043c1"
    },
    {
      "cell_type": "code",
      "metadata": {
        "colab": {
          "base_uri": "https://localhost:8080/"
        },
        "id": "0be2978f",
        "outputId": "5e66414f-caea-431e-8702-db85f564b21d"
      },
      "source": [
        "tuples = [(1, 3), (2, 1), (4, 2)]\n",
        "sorted_tuples = sorted(tuples, key=lambda x: x[1])\n",
        "print(\"Sorted tuples:\", sorted_tuples)"
      ],
      "id": "0be2978f",
      "execution_count": 19,
      "outputs": [
        {
          "output_type": "stream",
          "name": "stdout",
          "text": [
            "Sorted tuples: [(2, 1), (4, 2), (1, 3)]\n"
          ]
        }
      ]
    },
    {
      "cell_type": "markdown",
      "metadata": {
        "id": "faab6f0e"
      },
      "source": [
        "## 9. Write a Python program that uses `map()` to convert a list of temperatures from Celsius to Fahrenheit."
      ],
      "id": "faab6f0e"
    },
    {
      "cell_type": "code",
      "metadata": {
        "colab": {
          "base_uri": "https://localhost:8080/"
        },
        "id": "fd1c745c",
        "outputId": "5fb2e113-88f0-4dc5-a5be-ea19499660c7"
      },
      "source": [
        "celsius = [0, 10, 20, 30, 40]\n",
        "fahrenheit = list(map(lambda c: c * 9/5 + 32, celsius))\n",
        "print(\"Fahrenheit:\", fahrenheit)"
      ],
      "id": "fd1c745c",
      "execution_count": 20,
      "outputs": [
        {
          "output_type": "stream",
          "name": "stdout",
          "text": [
            "Fahrenheit: [32.0, 50.0, 68.0, 86.0, 104.0]\n"
          ]
        }
      ]
    },
    {
      "cell_type": "markdown",
      "metadata": {
        "id": "b070797a"
      },
      "source": [
        "## 10. 10. Create a Python program that uses `filter()` to remove all the vowels from a given string."
      ],
      "id": "b070797a"
    },
    {
      "cell_type": "code",
      "metadata": {
        "colab": {
          "base_uri": "https://localhost:8080/"
        },
        "id": "93699743",
        "outputId": "8bbe95f0-9e3e-4743-bed5-e92036734825"
      },
      "source": [
        "def remove_vowels(s):\n",
        "    vowels = \"aeiouAEIOU\"\n",
        "    return ''.join(filter(lambda ch: ch not in vowels, s))\n",
        "\n",
        "# Example\n",
        "text = \"Hello World\"\n",
        "print(\"Without vowels:\", remove_vowels(text))"
      ],
      "id": "93699743",
      "execution_count": 21,
      "outputs": [
        {
          "output_type": "stream",
          "name": "stdout",
          "text": [
            "Without vowels: Hll Wrld\n"
          ]
        }
      ]
    },
    {
      "cell_type": "code",
      "source": [
        "# 11. Write a Python program, which returns a list with 2-tuples. Each tuple consists of the order number and the product of the price per item and the quantity.\n",
        "#The product should be increased by 10,- € if the value of the order is smaller than 100,00 €.\n",
        "\n",
        "# Write a Python program using lambda and map.\n",
        "\n",
        "orders = [\n",
        "    [34587, \"Learning Python, Mark Lutz\", 4, 40.95],\n",
        "    [98762, \"Programming Python, Mark Lutz\", 5, 56.80],\n",
        "    [77226, \"Head First Python, Paul Barry\", 3, 32.95],\n",
        "    [88112, \"Einführung in Python3, Bernd Klein\", 3, 24.99]\n",
        "]\n",
        "\n",
        "# Processing with lambda and map\n",
        "\n",
        "result = list(map(lambda order: (\n",
        "    order[0],\n",
        "    order[2] * order[3] + (10 if order[2]*order[3] < 100 else 0)\n",
        "), orders))\n",
        "\n",
        "print(result)\n"
      ],
      "metadata": {
        "colab": {
          "base_uri": "https://localhost:8080/"
        },
        "id": "v2NAR7gEV5FJ",
        "outputId": "5d23c59f-7da8-477b-d3e3-096001ce8a30"
      },
      "id": "v2NAR7gEV5FJ",
      "execution_count": 23,
      "outputs": [
        {
          "output_type": "stream",
          "name": "stdout",
          "text": [
            "[(34587, 163.8), (98762, 284.0), (77226, 108.85000000000001), (88112, 84.97)]\n"
          ]
        }
      ]
    }
  ],
  "metadata": {
    "colab": {
      "provenance": []
    },
    "language_info": {
      "name": "python"
    },
    "kernelspec": {
      "name": "python3",
      "display_name": "Python 3"
    }
  },
  "nbformat": 4,
  "nbformat_minor": 5
}